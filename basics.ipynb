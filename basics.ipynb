{
 "cells": [
  {
   "cell_type": "code",
   "execution_count": 3,
   "id": "8f2ba6bd",
   "metadata": {},
   "outputs": [],
   "source": [
    "import numpy as np\n",
    "import random as rd"
   ]
  },
  {
   "cell_type": "code",
   "execution_count": 61,
   "id": "154e7c07",
   "metadata": {},
   "outputs": [],
   "source": [
    "#setting initial points\n",
    "n_hits = 0\n",
    "x = 1\n",
    "y = 1\n",
    "rd.seed()"
   ]
  },
  {
   "cell_type": "code",
   "execution_count": null,
   "id": "da2c5299",
   "metadata": {},
   "outputs": [],
   "source": [
    "def make_throw(delta, x, y):\n",
    "    delta_x = (rd.uniform(-delta, delta))\n",
    "    delta_y = (rd.uniform(-delta, delta))\n",
    "    x_final = x + delta_x\n",
    "    y_final = y + delta_y\n",
    "\n",
    "    if (abs(x_final) < 1) and (abs(y_final) < 1):\n",
    "        return x_final,y_final\n",
    "    return x,y\n",
    "\n",
    "def test_acceptance(delta, try_range = 100000, x = 1, y = 1):\n",
    "    passed = 0\n",
    "    for i in range(try_range):\n",
    "        x_next, y_next = make_throw(delta, x, y)\n",
    "        if (x_next != x) or (y_next != y):\n",
    "            passed += 1\n",
    "            x = x_next; y = y_next\n",
    "    return passed / try_range"
   ]
  },
  {
   "cell_type": "code",
   "execution_count": 102,
   "id": "c7c49359",
   "metadata": {},
   "outputs": [],
   "source": [
    "x,y = 1,1\n",
    "for i in range(1000):\n",
    "    x, y = make_throw(0.2,x,y)"
   ]
  },
  {
   "cell_type": "code",
   "execution_count": 104,
   "id": "a2d423fd",
   "metadata": {},
   "outputs": [
    {
     "name": "stdout",
     "output_type": "stream",
     "text": [
      "range = 0.05 / acceptance = 0.9916295\n",
      "range = 0.1 / acceptance = 0.9829063\n",
      "range = 0.15 / acceptance = 0.9738479\n",
      "range = 0.2 / acceptance = 0.9647085\n",
      "range = 0.25 / acceptance = 0.9553594\n",
      "range = 0.3 / acceptance = 0.9454716\n",
      "range = 0.35 / acceptance = 0.9357817\n",
      "range = 0.4 / acceptance = 0.9255795\n",
      "range = 0.45 / acceptance = 0.9152364\n",
      "range = 0.5 / acceptance = 0.9044862\n",
      "range = 0.55 / acceptance = 0.8936767\n",
      "range = 0.6 / acceptance = 0.8825221\n",
      "range = 0.65 / acceptance = 0.8712022\n",
      "range = 0.7 / acceptance = 0.8596554\n",
      "range = 0.75 / acceptance = 0.8476057\n",
      "range = 0.8 / acceptance = 0.8352933\n",
      "range = 0.85 / acceptance = 0.8232296\n",
      "range = 0.9 / acceptance = 0.8107586\n",
      "range = 0.95 / acceptance = 0.797852\n",
      "range = 1.0 / acceptance = 0.7844795\n"
     ]
    }
   ],
   "source": [
    "for i in range(0, 100, 5):\n",
    "    delta = (i + 5) / 100\n",
    "    acceptance_rate = test_acceptance(delta, 10000000, x, y)\n",
    "    print(f'range = {delta} / acceptance = {acceptance_rate}')"
   ]
  }
 ],
 "metadata": {
  "kernelspec": {
   "display_name": "Python (tcc-markov-chain)",
   "language": "python",
   "name": "tcc-markov-chain"
  },
  "language_info": {
   "codemirror_mode": {
    "name": "ipython",
    "version": 3
   },
   "file_extension": ".py",
   "mimetype": "text/x-python",
   "name": "python",
   "nbconvert_exporter": "python",
   "pygments_lexer": "ipython3",
   "version": "3.12.3"
  }
 },
 "nbformat": 4,
 "nbformat_minor": 5
}
