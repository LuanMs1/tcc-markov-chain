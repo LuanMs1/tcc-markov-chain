{
 "cells": [
  {
   "cell_type": "code",
   "execution_count": 91,
   "id": "8f2ba6bd",
   "metadata": {},
   "outputs": [],
   "source": [
    "import numpy as np\n",
    "import random as rd"
   ]
  },
  {
   "cell_type": "code",
   "execution_count": 92,
   "id": "154e7c07",
   "metadata": {},
   "outputs": [],
   "source": [
    "#setting initial points\n",
    "n_hits = 0\n",
    "x = 1\n",
    "y = 1\n",
    "rd.seed()"
   ]
  },
  {
   "cell_type": "code",
   "execution_count": 93,
   "id": "da2c5299",
   "metadata": {},
   "outputs": [],
   "source": [
    "def make_throw(delta, x, y, limits = 1):\n",
    "    delta_x = (rd.uniform(-delta, delta))\n",
    "    delta_y = (rd.uniform(-delta, delta))\n",
    "    x_final = x + delta_x\n",
    "    y_final = y + delta_y\n",
    "\n",
    "    if (abs(x_final) < limits) and (abs(y_final) < limits):\n",
    "        return x_final,y_final\n",
    "    return x,y\n",
    "\n",
    "def test_acceptance(delta, try_range = 100000, x = 1, y = 1):\n",
    "    passed = 0\n",
    "    for i in range(try_range):\n",
    "        x_next, y_next = make_throw(delta, x, y)\n",
    "        if (x_next != x) or (y_next != y):\n",
    "            passed += 1\n",
    "            x = x_next; y = y_next\n",
    "    return passed / try_range"
   ]
  },
  {
   "cell_type": "code",
   "execution_count": 94,
   "id": "c7c49359",
   "metadata": {},
   "outputs": [
    {
     "name": "stdout",
     "output_type": "stream",
     "text": [
      "-0.1653073559587171 -0.06837011366783213\n"
     ]
    }
   ],
   "source": [
    "x,y = 1,1\n",
    "for i in range(1000):\n",
    "    x, y = make_throw(0.2,x,y)\n",
    "print(x, y)"
   ]
  },
  {
   "cell_type": "code",
   "execution_count": 98,
   "id": "a2d423fd",
   "metadata": {},
   "outputs": [
    {
     "name": "stdout",
     "output_type": "stream",
     "text": [
      "10000000 throws with 7858809 hits.\n",
      "0.196470225 pi approximation\n"
     ]
    }
   ],
   "source": [
    "delta = 0.5\n",
    "throws = 10000000\n",
    "hits = 0\n",
    "for i in range(throws):\n",
    "    x, y = make_throw(delta, x, y, 1)\n",
    "    r = (x * x) + (y * y)\n",
    "    if r < 1:\n",
    "        hits += 1\n",
    "\n",
    "print(f'{throws} throws with {hits} hits.\\n{hits / (4 * throws)} pi approximation')"
   ]
  },
  {
   "cell_type": "markdown",
   "id": "03035a2d",
   "metadata": {},
   "source": [
    "# Direct sampling"
   ]
  },
  {
   "cell_type": "code",
   "execution_count": 131,
   "id": "7eaa29fb",
   "metadata": {},
   "outputs": [
    {
     "name": "stdout",
     "output_type": "stream",
     "text": [
      "3.14137344\n"
     ]
    }
   ],
   "source": [
    "trials  = 100000000\n",
    "hits = 0\n",
    "for i in range(trials):\n",
    "    x = rd.uniform(-1, 1)\n",
    "    y = rd.uniform(-1, 1)\n",
    "    r = x**2 + y**2\n",
    "    if r <= 1:\n",
    "        hits += 1\n",
    "\n",
    "pi = 4 * hits / float(trials)\n",
    "print(pi)   "
   ]
  },
  {
   "cell_type": "markdown",
   "id": "daa365ad",
   "metadata": {},
   "source": [
    "# Markov-chain sampling"
   ]
  },
  {
   "cell_type": "code",
   "execution_count": 159,
   "id": "87f2fb4c",
   "metadata": {},
   "outputs": [],
   "source": [
    "# define the sampling method\n",
    "def markov_sampling(delta, x, y, limit = 1):\n",
    "    new_x = x + rd.uniform(-delta, delta)\n",
    "    new_y = y + rd.uniform(-delta, delta)\n",
    "\n",
    "    if (abs(new_x) < limit) and (abs(new_y) < limit):\n",
    "        x = new_x\n",
    "        y = new_y\n",
    "    return x, y\n"
   ]
  },
  {
   "cell_type": "code",
   "execution_count": 161,
   "id": "b835c91d",
   "metadata": {},
   "outputs": [
    {
     "name": "stdout",
     "output_type": "stream",
     "text": [
      "For delta = 0.0.Acceptance = 0.0\n",
      "For delta = 0.2.Acceptance = 0.9123\n",
      "For delta = 0.4.Acceptance = 0.7989\n",
      "For delta = 0.6000000000000001.Acceptance = 0.7259\n",
      "For delta = 0.8.Acceptance = 0.6395\n",
      "For delta = 1.0.Acceptance = 0.5592\n",
      "For delta = 1.2000000000000002.Acceptance = 0.4851\n",
      "For delta = 1.4000000000000001.Acceptance = 0.4264\n",
      "For delta = 1.6.Acceptance = 0.3622\n",
      "For delta = 1.8.Acceptance = 0.3089\n"
     ]
    }
   ],
   "source": [
    "# study the acceptance probability\n",
    "\n",
    "trials = 10000\n",
    "\n",
    "x,y = 1,1\n",
    "dv = 0.2\n",
    "del_list = np.arange(0,2, dv)\n",
    "for i in range(len(del_list)):\n",
    "    n_accepted = 0\n",
    "    delta = del_list[i]\n",
    "    for j in range(trials):\n",
    "        x_new, y_new = markov_sampling(delta,x,y, 1)\n",
    "        if (x_new != x) or (y_new != y):\n",
    "            x = x_new\n",
    "            y = y_new\n",
    "            n_accepted+=1\n",
    "    acceptance_rate = n_accepted / trials\n",
    "    print(f\"For delta = {delta}.Acceptance = {acceptance_rate}\")"
   ]
  },
  {
   "cell_type": "code",
   "execution_count": 175,
   "id": "e2a677d2",
   "metadata": {},
   "outputs": [
    {
     "name": "stdout",
     "output_type": "stream",
     "text": [
      "3.14114808\n"
     ]
    }
   ],
   "source": [
    "# calculate pi\n",
    "trials = 50000000\n",
    "delta = 1\n",
    "\n",
    "## create initial poistion\n",
    "x, y = 1, 1\n",
    "for i in range(1000):\n",
    "    x, y = markov_sampling(delta, x, y)\n",
    "\n",
    "\n",
    "## calculate pi\n",
    "n_hits = 0\n",
    "for i in range(trials):\n",
    "    x,y = markov_sampling(delta, x, y)\n",
    "    if x**2 + y**2 <=1:\n",
    "        n_hits += 1\n",
    "\n",
    "pi = 4 * n_hits / trials\n",
    "print(pi)\n"
   ]
  },
  {
   "cell_type": "markdown",
   "id": "f8bf5f92",
   "metadata": {},
   "source": [
    "# approximating x^2"
   ]
  },
  {
   "cell_type": "code",
   "execution_count": 177,
   "id": "71fcf33a",
   "metadata": {},
   "outputs": [
    {
     "name": "stdout",
     "output_type": "stream",
     "text": [
      "0.4638\n"
     ]
    }
   ],
   "source": [
    "# Direct sampling 0 - 1\n",
    "trials = 10000\n",
    "n_hits = 0\n",
    "for n in range(trials):\n",
    "    x = rd.uniform(0,1)\n",
    "    y = rd.uniform(0,1)\n",
    "\n",
    "    if y <= np.sin(x):\n",
    "        n_hits+=1\n",
    "\n",
    "print(n_hits / trials)"
   ]
  }
 ],
 "metadata": {
  "kernelspec": {
   "display_name": "Python (tcc-markov-chain)",
   "language": "python",
   "name": "tcc-markov-chain"
  },
  "language_info": {
   "codemirror_mode": {
    "name": "ipython",
    "version": 3
   },
   "file_extension": ".py",
   "mimetype": "text/x-python",
   "name": "python",
   "nbconvert_exporter": "python",
   "pygments_lexer": "ipython3",
   "version": "3.12.3"
  }
 },
 "nbformat": 4,
 "nbformat_minor": 5
}
