{
 "cells": [
  {
   "cell_type": "markdown",
   "id": "0bb8319a",
   "metadata": {},
   "source": [
    "# Functions"
   ]
  },
  {
   "cell_type": "code",
   "execution_count": 1,
   "id": "14f2dea6",
   "metadata": {},
   "outputs": [],
   "source": [
    "from tcc_markov_chain.base_simulation import Simulation\n",
    "from tcc_markov_chain.simulations import MarkovChain, PeriodicDirectSampling\n",
    "from typing import List\n",
    "from tcc_markov_chain.systems import HDPeriodic,DiskSystem\n",
    "from copy import deepcopy\n",
    "import numpy as np\n",
    "import matplotlib.pyplot as plt"
   ]
  },
  {
   "cell_type": "code",
   "execution_count": 2,
   "id": "50a42731",
   "metadata": {},
   "outputs": [],
   "source": [
    "# observables\n",
    "from tcc_markov_chain.observables.hard_disk import particle_density, rdf"
   ]
  },
  {
   "cell_type": "markdown",
   "id": "809efd71",
   "metadata": {},
   "source": [
    "# Functions"
   ]
  },
  {
   "cell_type": "code",
   "execution_count": 3,
   "id": "9b994d61",
   "metadata": {},
   "outputs": [],
   "source": [
    "class RDF():\n",
    "    def __init__(\n",
    "            self,\n",
    "            box_size,\n",
    "            n_bins=10,\n",
    "        ):\n",
    "        # self.system=system\n",
    "        self.n_bins=n_bins\n",
    "        self.bin_size = box_size / (2*n_bins)\n",
    "        self.bins =np.zeros(n_bins+1)\n",
    "\n",
    "    def eval(self, system:DiskSystem):\n",
    "        distances = system.calculate_relative_positions()\n",
    "        distances = np.linalg.norm(distances,axis=1)\n",
    "        for d in distances:\n",
    "            # print(d//self.bin_size, d, self.bin_size)\n",
    "            if int(d//self.bin_size)==11:\n",
    "                print(distances, system.positions)\n",
    "            self.bins[int(d//self.bin_size)]+=2\n",
    "\n",
    "        return True"
   ]
  },
  {
   "cell_type": "code",
   "execution_count": 19,
   "id": "e0eaf343",
   "metadata": {},
   "outputs": [],
   "source": [
    "class ProbabilityDensityPosition():\n",
    "    def __init__(self, sim:Simulation,bin_size=1):\n",
    "        self.box_dimension = sim.system.box_dimension\n",
    "        self.bin_size = bin_size\n",
    "        self.n_bins = self.box_dimension // bin_size\n",
    "        self.bins = np.zeros(self.n_bins,dtype=float)\n",
    "        self.steps = 0\n",
    "\n",
    "    def evaluate(self,sys:DiskSystem):\n",
    "        idx = (sys.positions[1] // self.bin_size).astype(int)\n",
    "        self.bins[idx[0],idx[1]]+=1\n",
    "        \n",
    "        self.steps+=1\n",
    "        return self.bins\n",
    "    \n",
    "    def normalize_results(self):\n",
    "        return self.bins / self.steps"
   ]
  },
  {
   "cell_type": "markdown",
   "id": "1cad2985",
   "metadata": {},
   "source": [
    "# Main"
   ]
  },
  {
   "cell_type": "markdown",
   "id": "f4a597eb",
   "metadata": {},
   "source": [
    "## Direct sampling - 2 particle problem"
   ]
  },
  {
   "cell_type": "code",
   "execution_count": null,
   "id": "ed0d5e96",
   "metadata": {},
   "outputs": [
    {
     "name": "stderr",
     "output_type": "stream",
     "text": [
      "2025-07-16 23:12:53,938 - INFO - creting system with 2 particles of radii 0.65\n",
      "2025-07-16 23:12:53,939 - INFO - density: 0.026546457922833753, box size [10 10]\n",
      "2025-07-16 23:12:53,939 - INFO - system created\n"
     ]
    },
    {
     "data": {
      "image/png": "[encoded data removed]",
      "text/plain": [
       "<Figure size 640x480 with 1 Axes>"
      ]
     },
     "metadata": {},
     "output_type": "display_data"
    }
   ],
   "source": [
    "box_size=2\n",
    "n_particles=2\n",
    "particle_radius=0.65\n",
    "n_steps=int(1e3)\n",
    "positions = np.array([[0,0],[1.,1]],dtype=float)\n",
    "sys = HDPeriodic(particle_radius=particle_radius,n_particles=n_particles,positions=positions,box_size=10)\n",
    "sys.plot_system()"
   ]
  },
  {
   "cell_type": "code",
   "execution_count": 36,
   "id": "f8c9851e",
   "metadata": {},
   "outputs": [
    {
     "name": "stderr",
     "output_type": "stream",
     "text": [
      "100%|██████████| 1000/1000 [00:00<00:00, 11696.43it/s]\n"
     ]
    }
   ],
   "source": [
    "sim = PeriodicDirectSampling(deepcopy(sys))\n",
    "sim.system.positions\n",
    "sim_pd = ProbabilityDensityPosition(sim,bin_size=2)\n",
    "sim_run = sim.run(sim_pd.evaluate,n_steps=n_steps)\n",
    "\n",
    "for step in sim_run:\n",
    "    continue"
   ]
  },
  {
   "cell_type": "code",
   "execution_count": 37,
   "id": "5d9259b1",
   "metadata": {},
   "outputs": [
    {
     "name": "stdout",
     "output_type": "stream",
     "text": [
      "0.04\n",
      "0.006026607669327745\n"
     ]
    }
   ],
   "source": [
    "hist = sim_pd.normalize_results()\n",
    "print(hist.mean())\n",
    "print(hist.std())"
   ]
  },
  {
   "cell_type": "code",
   "execution_count": 38,
   "id": "83dd599c",
   "metadata": {},
   "outputs": [
    {
     "data": {
      "text/plain": [
       "array([[0.046, 0.038, 0.045, 0.036, 0.041],\n",
       "       [0.048, 0.031, 0.044, 0.047, 0.04 ],\n",
       "       [0.039, 0.042, 0.039, 0.038, 0.026],\n",
       "       [0.024, 0.036, 0.045, 0.04 , 0.043],\n",
       "       [0.046, 0.04 , 0.048, 0.038, 0.04 ]])"
      ]
     },
     "execution_count": 38,
     "metadata": {},
     "output_type": "execute_result"
    }
   ],
   "source": [
    "hist.round(3)"
   ]
  },
  {
   "cell_type": "markdown",
   "id": "761c762c",
   "metadata": {},
   "source": [
    "## Markov Chain/Direct sampling Probabilitie density"
   ]
  },
  {
   "cell_type": "code",
   "execution_count": 9,
   "id": "bdba99bd",
   "metadata": {},
   "outputs": [
    {
     "name": "stderr",
     "output_type": "stream",
     "text": [
      "2025-07-16 23:06:11,748 - INFO - creting system with 4 particles of radii 1\n",
      "2025-07-16 23:06:11,749 - INFO - density: 0.5026548245743669, box size [5 5]\n",
      "2025-07-16 23:06:11,750 - INFO - system created\n"
     ]
    },
    {
     "data": {
      "image/png": "[encoded data removed]",
      "text/plain": [
       "<Figure size 640x480 with 1 Axes>"
      ]
     },
     "metadata": {},
     "output_type": "display_data"
    }
   ],
   "source": [
    "#Defining system\n",
    "box_size=5\n",
    "n_particles=4\n",
    "particle_radius=1\n",
    "sys = HDPeriodic(box_size=box_size,particle_radius=particle_radius,n_particles=n_particles,fast_initial=True)\n",
    "sys.plot_system()"
   ]
  },
  {
   "cell_type": "code",
   "execution_count": 10,
   "id": "347d8d2f",
   "metadata": {},
   "outputs": [],
   "source": [
    "def run_simulation(sim,n_steps):\n",
    "    evaluator = ProbabilityDensityPosition(sim,n_bins=10)\n",
    "    sim_run = sim.run(eval_fn=evaluator.evaluate,n_steps=n_steps)\n",
    "    for step in sim_run:\n",
    "        continue\n",
    "    hist = evaluator.normalize_results()\n",
    "    print(hist.mean())\n",
    "    print(hist.std())\n",
    "    \n"
   ]
  },
  {
   "cell_type": "code",
   "execution_count": 11,
   "id": "1fbffde1",
   "metadata": {},
   "outputs": [
    {
     "name": "stderr",
     "output_type": "stream",
     "text": [
      " 15%|█▍        | 147194/1000000 [00:02<00:13, 65026.65it/s]\n"
     ]
    },
    {
     "ename": "KeyboardInterrupt",
     "evalue": "",
     "output_type": "error",
     "traceback": [
      "\u001b[31m---------------------------------------------------------------------------\u001b[39m",
      "\u001b[31mKeyboardInterrupt\u001b[39m                         Traceback (most recent call last)",
      "\u001b[36mCell\u001b[39m\u001b[36m \u001b[39m\u001b[32mIn[11]\u001b[39m\u001b[32m, line 4\u001b[39m\n\u001b[32m      2\u001b[39m n_steps=\u001b[38;5;28mint\u001b[39m(\u001b[32m1e6\u001b[39m)\n\u001b[32m      3\u001b[39m sim_mc = MarkovChain(system=deepcopy(sys),delta_x=\u001b[32m10\u001b[39m*particle_radius)\n\u001b[32m----> \u001b[39m\u001b[32m4\u001b[39m \u001b[43mrun_simulation\u001b[49m\u001b[43m(\u001b[49m\u001b[43msim_mc\u001b[49m\u001b[43m,\u001b[49m\u001b[43mn_steps\u001b[49m\u001b[43m)\u001b[49m\n",
      "\u001b[36mCell\u001b[39m\u001b[36m \u001b[39m\u001b[32mIn[10]\u001b[39m\u001b[32m, line 4\u001b[39m, in \u001b[36mrun_simulation\u001b[39m\u001b[34m(sim, n_steps)\u001b[39m\n\u001b[32m      2\u001b[39m evaluator = ProbabilityDensityPosition(sim,n_bins=\u001b[32m10\u001b[39m)\n\u001b[32m      3\u001b[39m sim_run = sim.run(eval_fn=evaluator.evaluate,n_steps=n_steps)\n\u001b[32m----> \u001b[39m\u001b[32m4\u001b[39m \u001b[43m\u001b[49m\u001b[38;5;28;43;01mfor\u001b[39;49;00m\u001b[43m \u001b[49m\u001b[43mstep\u001b[49m\u001b[43m \u001b[49m\u001b[38;5;129;43;01min\u001b[39;49;00m\u001b[43m \u001b[49m\u001b[43msim_run\u001b[49m\u001b[43m:\u001b[49m\n\u001b[32m      5\u001b[39m \u001b[43m    \u001b[49m\u001b[38;5;28;43;01mcontinue\u001b[39;49;00m\n\u001b[32m      6\u001b[39m hist = evaluator.normalize_results()\n",
      "\u001b[36mFile \u001b[39m\u001b[32m~/projects/tcc-markov-chain/tcc_markov_chain/base_simulation.py:21\u001b[39m, in \u001b[36mSimulation.run\u001b[39m\u001b[34m(self, eval_fn, n_steps)\u001b[39m\n\u001b[32m     18\u001b[39m \u001b[38;5;250m\u001b[39m\u001b[33;03m\"\"\"run the simulation\"\"\"\u001b[39;00m\n\u001b[32m     20\u001b[39m \u001b[38;5;28;01mfor\u001b[39;00m i \u001b[38;5;129;01min\u001b[39;00m tqdm(\u001b[38;5;28mrange\u001b[39m(n_steps)):\n\u001b[32m---> \u001b[39m\u001b[32m21\u001b[39m     \u001b[38;5;28;43mself\u001b[39;49m\u001b[43m.\u001b[49m\u001b[43mstep\u001b[49m\u001b[43m(\u001b[49m\u001b[43m)\u001b[49m\n\u001b[32m     22\u001b[39m     \u001b[38;5;28;01myield\u001b[39;00m eval_fn(\u001b[38;5;28mself\u001b[39m.system)\n",
      "\u001b[36mFile \u001b[39m\u001b[32m~/projects/tcc-markov-chain/tcc_markov_chain/simulations.py:18\u001b[39m, in \u001b[36mMarkovChain.step\u001b[39m\u001b[34m(self)\u001b[39m\n\u001b[32m     17\u001b[39m \u001b[38;5;28;01mdef\u001b[39;00m\u001b[38;5;250m \u001b[39m\u001b[34mstep\u001b[39m(\u001b[38;5;28mself\u001b[39m):\n\u001b[32m---> \u001b[39m\u001b[32m18\u001b[39m     \u001b[38;5;28;01mreturn\u001b[39;00m \u001b[38;5;28;43mself\u001b[39;49m\u001b[43m.\u001b[49m\u001b[43mchain_move\u001b[49m\u001b[43m(\u001b[49m\u001b[43mdelta_x\u001b[49m\u001b[43m=\u001b[49m\u001b[38;5;28;43mself\u001b[39;49m\u001b[43m.\u001b[49m\u001b[43mdelta_x\u001b[49m\u001b[43m)\u001b[49m\n",
      "\u001b[36mFile \u001b[39m\u001b[32m~/projects/tcc-markov-chain/tcc_markov_chain/simulations.py:14\u001b[39m, in \u001b[36mMarkovChain.chain_move\u001b[39m\u001b[34m(self, delta_x)\u001b[39m\n\u001b[32m     11\u001b[39m k = \u001b[38;5;28mself\u001b[39m.system.rng.integers(\u001b[32m0\u001b[39m,\u001b[38;5;28mself\u001b[39m.system.n_particles)\n\u001b[32m     12\u001b[39m dx = \u001b[38;5;28mself\u001b[39m.system.rng.uniform(-delta_x,delta_x,size=\u001b[32m2\u001b[39m)\n\u001b[32m---> \u001b[39m\u001b[32m14\u001b[39m _ = \u001b[38;5;28;43mself\u001b[39;49m\u001b[43m.\u001b[49m\u001b[43msystem\u001b[49m\u001b[43m.\u001b[49m\u001b[43mupdate_particle_position\u001b[49m\u001b[43m(\u001b[49m\u001b[43mk\u001b[49m\u001b[43m,\u001b[49m\u001b[43mdx\u001b[49m\u001b[43m)\u001b[49m\n",
      "\u001b[36mFile \u001b[39m\u001b[32m~/projects/tcc-markov-chain/tcc_markov_chain/systems/hard_disk.py:41\u001b[39m, in \u001b[36mHDPeriodic.update_particle_position\u001b[39m\u001b[34m(self, k, displacement)\u001b[39m\n\u001b[32m     39\u001b[39m new_particle_position = (\u001b[38;5;28mself\u001b[39m.positions[k] + displacement) % \u001b[38;5;28mself\u001b[39m.box_size\n\u001b[32m     40\u001b[39m rel_pos = \u001b[38;5;28mself\u001b[39m.positions[[i \u001b[38;5;28;01mfor\u001b[39;00m i \u001b[38;5;129;01min\u001b[39;00m \u001b[38;5;28mrange\u001b[39m(\u001b[38;5;28mself\u001b[39m.n_particles) \u001b[38;5;28;01mif\u001b[39;00m i!=k]] - new_particle_position\n\u001b[32m---> \u001b[39m\u001b[32m41\u001b[39m rel_pos -= \u001b[38;5;28mself\u001b[39m.box_size * \u001b[43mnp\u001b[49m\u001b[43m.\u001b[49m\u001b[43mrint\u001b[49m\u001b[43m(\u001b[49m\u001b[43mrel_pos\u001b[49m\u001b[43m/\u001b[49m\u001b[38;5;28;43mself\u001b[39;49m\u001b[43m.\u001b[49m\u001b[43mbox_size\u001b[49m\u001b[43m)\u001b[49m\n\u001b[32m     42\u001b[39m dis = np.linalg.norm(rel_pos,axis=\u001b[32m1\u001b[39m)\n\u001b[32m     43\u001b[39m \u001b[38;5;66;03m#reject\u001b[39;00m\n",
      "\u001b[31mKeyboardInterrupt\u001b[39m: "
     ]
    }
   ],
   "source": [
    "#defining markov chain simualtion\n",
    "n_steps=int(1e6)\n",
    "sim_mc = MarkovChain(system=deepcopy(sys),delta_x=10*particle_radius)\n",
    "run_simulation(sim_mc,n_steps)"
   ]
  },
  {
   "cell_type": "code",
   "execution_count": null,
   "id": "edd58b6f",
   "metadata": {},
   "outputs": [
    {
     "data": {
      "text/plain": [
       "(np.int64(5), np.int64(2))"
      ]
     },
     "execution_count": 12,
     "metadata": {},
     "output_type": "execute_result"
    }
   ],
   "source": [
    "x,y = sys.rng.integers(0,[10,5],2)\n",
    "x,y"
   ]
  },
  {
   "cell_type": "code",
   "execution_count": null,
   "id": "af7157d8",
   "metadata": {},
   "outputs": [
    {
     "data": {
      "text/plain": [
       "array([ 5, 10])"
      ]
     },
     "execution_count": 13,
     "metadata": {},
     "output_type": "execute_result"
    }
   ],
   "source": [
    "test = np.array([10,20])\n",
    "r = 1\n",
    "test // (2*r)"
   ]
  },
  {
   "cell_type": "code",
   "execution_count": null,
   "id": "0e011a0b",
   "metadata": {},
   "outputs": [
    {
     "data": {
      "text/plain": [
       "array([0.45447744, 1.10916957])"
      ]
     },
     "execution_count": 14,
     "metadata": {},
     "output_type": "execute_result"
    }
   ],
   "source": [
    "sys.rng.uniform(0,2,2)"
   ]
  },
  {
   "cell_type": "code",
   "execution_count": null,
   "id": "21f298be",
   "metadata": {},
   "outputs": [
    {
     "data": {
      "text/plain": [
       "array([11.91451768, 16.55262344])"
      ]
     },
     "execution_count": 15,
     "metadata": {},
     "output_type": "execute_result"
    }
   ],
   "source": [
    "sys.rng.uniform([10,0],np.array([40,20]),2)"
   ]
  },
  {
   "cell_type": "code",
   "execution_count": null,
   "id": "5e26306d",
   "metadata": {},
   "outputs": [
    {
     "data": {
      "text/plain": [
       "array([4, 9])"
      ]
     },
     "execution_count": 16,
     "metadata": {},
     "output_type": "execute_result"
    }
   ],
   "source": [
    "np.array([2,3])**2"
   ]
  },
  {
   "cell_type": "code",
   "execution_count": null,
   "id": "0dc13bfd",
   "metadata": {},
   "outputs": [
    {
     "name": "stderr",
     "output_type": "stream",
     "text": [
      "100%|██████████| 1000/1000 [00:12<00:00, 82.09it/s]"
     ]
    },
    {
     "name": "stdout",
     "output_type": "stream",
     "text": [
      "0.01\n",
      "0.0030659419433511784\n"
     ]
    },
    {
     "name": "stderr",
     "output_type": "stream",
     "text": [
      "\n"
     ]
    }
   ],
   "source": [
    "# Defining direct sampling simulations\n",
    "n_steps=int(1e3)\n",
    "sim_ds = PeriodicDirectSampling(system=deepcopy(sys))\n",
    "run_simulation(sim_ds,n_steps)"
   ]
  },
  {
   "cell_type": "code",
   "execution_count": null,
   "id": "a34c47c8",
   "metadata": {},
   "outputs": [
    {
     "ename": "TypeError",
     "evalue": "'<' not supported between instances of 'list' and 'int'",
     "output_type": "error",
     "traceback": [
      "\u001b[31m---------------------------------------------------------------------------\u001b[39m",
      "\u001b[31mTypeError\u001b[39m                                 Traceback (most recent call last)",
      "\u001b[36mCell\u001b[39m\u001b[36m \u001b[39m\u001b[32mIn[18]\u001b[39m\u001b[32m, line 1\u001b[39m\n\u001b[32m----> \u001b[39m\u001b[32m1\u001b[39m \u001b[43m[\u001b[49m\u001b[32;43m1\u001b[39;49m\u001b[43m,\u001b[49m\u001b[32;43m2\u001b[39;49m\u001b[43m]\u001b[49m\u001b[43m<\u001b[49m\u001b[32;43m1\u001b[39;49m\n",
      "\u001b[31mTypeError\u001b[39m: '<' not supported between instances of 'list' and 'int'"
     ]
    }
   ],
   "source": [
    "[1,2]<1"
   ]
  },
  {
   "cell_type": "markdown",
   "id": "ad0aac9c",
   "metadata": {},
   "source": [
    "### Phase transition"
   ]
  },
  {
   "cell_type": "code",
   "execution_count": null,
   "id": "e3dc1639",
   "metadata": {},
   "outputs": [
    {
     "ename": "NameError",
     "evalue": "name 'HardDiskSystem' is not defined",
     "output_type": "error",
     "traceback": [
      "\u001b[31m---------------------------------------------------------------------------\u001b[39m",
      "\u001b[31mNameError\u001b[39m                                 Traceback (most recent call last)",
      "\u001b[36mCell\u001b[39m\u001b[36m \u001b[39m\u001b[32mIn[13]\u001b[39m\u001b[32m, line 7\u001b[39m\n\u001b[32m      4\u001b[39m n_steps = \u001b[38;5;28mint\u001b[39m(\u001b[32m1e5\u001b[39m)\n\u001b[32m      5\u001b[39m n_bins=\u001b[38;5;28mint\u001b[39m(\u001b[32m50\u001b[39m)\n\u001b[32m----> \u001b[39m\u001b[32m7\u001b[39m sys = \u001b[43mHardDiskSystem\u001b[49m(box_size=box_size, particle_radius=particle_radius, n_particles=n_particles)\n\u001b[32m      8\u001b[39m sim_mc = MarkovChain(system=deepcopy(sys),delta_x=particle_radius/\u001b[32m2\u001b[39m)\n\u001b[32m     10\u001b[39m bin_size = sim_mc.sys.box_size / (\u001b[32m2\u001b[39m*n_bins)\n",
      "\u001b[31mNameError\u001b[39m: name 'HardDiskSystem' is not defined"
     ]
    }
   ],
   "source": [
    "box_size = 10\n",
    "particle_radius=0.6\n",
    "n_particles=20\n",
    "n_steps = int(1e5)\n",
    "n_bins=int(50)\n",
    "\n",
    "sys = HardDiskSystem(box_size=box_size, particle_radius=particle_radius, n_particles=n_particles)\n",
    "sim_mc = MarkovChain(system=deepcopy(sys),delta_x=particle_radius/2)\n",
    "\n",
    "bin_size = sim_mc.sys.box_size / (2*n_bins)\n",
    "bins = np.linspace(0, sim.sys.box_size/2, n_bins + 1)\n",
    "for step in sim_mc.run(eval_fn=lambda x: rdf(x,n_bins=n_bins),n_steps=n_steps):\n",
    "    bins+=step\n",
    "\n",
    "#ploting\n",
    "density = n_particles / (box_size ** 2)\n",
    "bins_centers = (np.linspace(0, sim.sys.box_size/2, n_bins + 1) * bin_size) + (bin_size / 2)\n",
    "bins_normalization = (2 * np.pi * bins_centers * bin_size * density * n_particles * n_steps)\n",
    "bins /= bins_normalization\n",
    "fig, axes = plt.subplots(1,2,figsize=(20,10))\n",
    "axes[0].plot(bins_centers, bins, linestyle='-')"
   ]
  }
 ],
 "metadata": {
  "kernelspec": {
   "display_name": "tcc-markov-chain-2qOlvGx0-py3.12",
   "language": "python",
   "name": "python3"
  },
  "language_info": {
   "codemirror_mode": {
    "name": "ipython",
    "version": 3
   },
   "file_extension": ".py",
   "mimetype": "text/x-python",
   "name": "python",
   "nbconvert_exporter": "python",
   "pygments_lexer": "ipython3",
   "version": "3.12.3"
  }
 },
 "nbformat": 4,
 "nbformat_minor": 5
}
