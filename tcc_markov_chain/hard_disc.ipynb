{
 "cells": [
  {
   "cell_type": "markdown",
   "id": "ee2243e8",
   "metadata": {},
   "source": [
    "# Imports"
   ]
  },
  {
   "cell_type": "code",
   "execution_count": 2,
   "id": "b1bc2ee8",
   "metadata": {},
   "outputs": [],
   "source": [
    "import numpy as np\n",
    "import matplotlib.pyplot as plt\n",
    "import random as rd"
   ]
  },
  {
   "cell_type": "markdown",
   "id": "c38bf5d2",
   "metadata": {},
   "source": [
    "# Functions"
   ]
  },
  {
   "cell_type": "markdown",
   "id": "11a864da",
   "metadata": {},
   "source": [
    "# Main"
   ]
  },
  {
   "cell_type": "code",
   "execution_count": 1,
   "id": "da80137a",
   "metadata": {},
   "outputs": [
    {
     "name": "stdout",
     "output_type": "stream",
     "text": [
      "HardDiskSystem(box_size=10, particle_radius=0.1, n_particles=5, seed=42, max_velocity=1, periodict_boundary=False, rng=Generator(PCG64) at 0x7F46CAAAD7E0, positions=array([[7.73956049, 4.3887844 ],\n",
      "       [8.5859792 , 6.97368029],\n",
      "       [0.94177348, 9.75622352],\n",
      "       [7.61139702, 7.86064305],\n",
      "       [1.28113633, 4.50385938]]), velocities=array([[-0.25840395,  0.85352998],\n",
      "       [ 0.28773024,  0.64552323],\n",
      "       [-0.1131716 , -0.54552256],\n",
      "       [ 0.10916957, -0.87236549],\n",
      "       [ 0.65526234,  0.2633288 ]]))\n"
     ]
    }
   ],
   "source": [
    "from base.systems import HardDiskSystem\n",
    "box_size = 10\n",
    "n_particles = 5\n",
    "particle_radius = 0.1\n",
    "system = HardDiskSystem(box_size = box_size, n_particles=n_particles,particle_radius=particle_radius)\n",
    "print(system)"
   ]
  },
  {
   "cell_type": "code",
   "execution_count": null,
   "id": "87425898",
   "metadata": {},
   "outputs": [],
   "source": []
  }
 ],
 "metadata": {
  "kernelspec": {
   "display_name": "Python (tcc-markov-chain)",
   "language": "python",
   "name": "tcc-markov-chain"
  },
  "language_info": {
   "codemirror_mode": {
    "name": "ipython",
    "version": 3
   },
   "file_extension": ".py",
   "mimetype": "text/x-python",
   "name": "python",
   "nbconvert_exporter": "python",
   "pygments_lexer": "ipython3",
   "version": "3.12.3"
  }
 },
 "nbformat": 4,
 "nbformat_minor": 5
}
