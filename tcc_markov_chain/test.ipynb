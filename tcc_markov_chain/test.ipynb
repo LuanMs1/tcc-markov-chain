{
 "cells": [
  {
   "cell_type": "code",
   "execution_count": 1,
   "id": "a1dd8736",
   "metadata": {},
   "outputs": [],
   "source": [
    "import systems.harddisk as hd\n",
    "import numpy as np"
   ]
  },
  {
   "cell_type": "code",
   "execution_count": 5,
   "id": "24c29032",
   "metadata": {},
   "outputs": [
    {
     "name": "stderr",
     "output_type": "stream",
     "text": [
      "2025-07-14 10:19:01,561 - INFO - system created with 4 particles\n",
      "2025-07-14 10:19:01,562 - INFO - calculating next events\n"
     ]
    },
    {
     "data": {
      "image/png": "[encoded data removed]",
      "text/plain": [
       "<Figure size 640x480 with 1 Axes>"
      ]
     },
     "metadata": {},
     "output_type": "display_data"
    }
   ],
   "source": [
    "box_size = 10\n",
    "n_particles = 4\n",
    "particle_radius = 1\n",
    "system_a = hd.HardDisckWalls(\n",
    "    box_size = box_size, \n",
    "    n_particles=n_particles,\n",
    "    particle_radius=particle_radius, \n",
    ")\n",
    "\n",
    "system_a.positions = np.array([[2.,2.], [6.,2.], [7.,4.],[7,8]])\n",
    "system_a.velocities = np.array([[1.,0.], [-1.,0.], [0.,1.],[0,-1]])\n",
    "pair_colision_times = system_a._next_pair_collision()\n",
    "system_a.plot_system()"
   ]
  },
  {
   "cell_type": "code",
   "execution_count": null,
   "id": "2e130c23",
   "metadata": {},
   "outputs": [
    {
     "data": {
      "text/plain": [
       "array([[-4.,  0.],\n",
       "       [-5., -2.],\n",
       "       [-5., -6.],\n",
       "       [-1., -2.],\n",
       "       [-1., -6.],\n",
       "       [ 0., -4.]])"
      ]
     },
     "execution_count": 20,
     "metadata": {},
     "output_type": "execute_result"
    }
   ],
   "source": []
  },
  {
   "cell_type": "code",
   "execution_count": null,
   "id": "d3bb3d79",
   "metadata": {},
   "outputs": [
    {
     "data": {
      "text/plain": [
       "array([[-4.,  0.],\n",
       "       [-5., -2.],\n",
       "       [-5., -6.],\n",
       "       [-1., -2.],\n",
       "       [-1., -6.],\n",
       "       [ 0., -4.]])"
      ]
     },
     "execution_count": 27,
     "metadata": {},
     "output_type": "execute_result"
    }
   ],
   "source": [
    "rel_disp"
   ]
  },
  {
   "cell_type": "code",
   "execution_count": 30,
   "id": "5e697b6a",
   "metadata": {},
   "outputs": [
    {
     "name": "stdout",
     "output_type": "stream",
     "text": [
      "(array([0, 0, 0, 1, 1, 2]), array([1, 2, 3, 2, 3, 3]))\n"
     ]
    },
    {
     "data": {
      "text/plain": [
       "array([16., 29., 61.,  5., 37., 16.])"
      ]
     },
     "execution_count": 30,
     "metadata": {},
     "output_type": "execute_result"
    }
   ],
   "source": [
    "print(np.triu_indices(n,k=1))\n",
    "np.einsum(\"ij,ij->i\", rel_disp,rel_disp)"
   ]
  },
  {
   "cell_type": "code",
   "execution_count": null,
   "id": "f372d1e1",
   "metadata": {},
   "outputs": [
    {
     "name": "stdout",
     "output_type": "stream",
     "text": [
      "(array([0, 0, 0, 1, 1, 2]), array([1, 2, 3, 2, 3, 3]))\n",
      "[1.                inf 4.17712434        inf        inf 1.        ]\n"
     ]
    }
   ],
   "source": [
    "def new_distances(sys):\n",
    "    n = sys.positions.shape[0]\n",
    "\n",
    "    # get the flat index lists for i<j\n",
    "    i_idx, j_idx = np.triu_indices(n, k=1)\n",
    "\n",
    "    # now build only those relative vectors:\n",
    "    rel_disp = sys.positions[i_idx] - sys.positions[j_idx]  # shape = (N*(N-1)/2, D)\n",
    "    return rel_disp\n",
    "\n",
    "def new_velocities(sys:hd.HardDisckWalls):\n",
    "    n = sys.positions.shape[0]\n",
    "    i_idx, j_idx = np.triu_indices(n, k=1)\n",
    "    rel_vel=sys.velocities[i_idx] - sys.velocities[j_idx]\n",
    "    return rel_vel\n",
    "\n",
    "def single_particle_colisions(sys, i):\n",
    "    \n",
    "def new_pair_colisions(sys):\n",
    "    dx = new_distances(sys)\n",
    "    dv = new_velocities(sys)\n",
    "\n",
    "    dx_dx = np.einsum(\"ij,ij->i\", dx,dx)\n",
    "    dx_dv = np.einsum(\"ij,ij->i\", dx,dv)\n",
    "    dv_dv = np.einsum(\"ij,ij->i\", dv,dv)\n",
    "\n",
    "    delta = np.square(dx_dv) - dv_dv * (dx_dx - 4*sys.particle_radius**2)\n",
    "    mask = (delta>-1e-12) & (dx_dv<0)\n",
    "\n",
    "    time_to_colide = np.full_like(delta, np.inf, dtype=float)\n",
    "    time_to_colide[mask] = - (dx_dv[mask] + np.sqrt(delta[mask])) / dv_dv[mask]\n",
    "\n",
    "    return time_to_colide\n",
    "\n",
    "print(np.triu_indices(4,k=1))\n",
    "print(new_pair_colisions(system_a))\n",
    "\n"
   ]
  },
  {
   "cell_type": "code",
   "execution_count": null,
   "id": "a2590c57",
   "metadata": {},
   "outputs": [
    {
     "data": {
      "text/plain": [
       "(array([0, 1, 2]),)"
      ]
     },
     "execution_count": 42,
     "metadata": {},
     "output_type": "execute_result"
    }
   ],
   "source": [
    "up_triangle = np.triu_indices(4,k=1)\n",
    "particle=0\n",
    "i_idx = np.ones(4,dtype=int) * particle\n",
    "np.where(np.triu_indices(4,k=1)[0]==0)"
   ]
  }
 ],
 "metadata": {
  "kernelspec": {
   "display_name": "Python (tcc-markov-chain)",
   "language": "python",
   "name": "tcc-markov-chain"
  },
  "language_info": {
   "codemirror_mode": {
    "name": "ipython",
    "version": 3
   },
   "file_extension": ".py",
   "mimetype": "text/x-python",
   "name": "python",
   "nbconvert_exporter": "python",
   "pygments_lexer": "ipython3",
   "version": "3.12.3"
  }
 },
 "nbformat": 4,
 "nbformat_minor": 5
}
